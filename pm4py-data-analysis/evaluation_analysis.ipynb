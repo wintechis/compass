{
 "cells": [
  {
   "cell_type": "markdown",
   "metadata": {},
   "source": [
    "# Evaluating Trajectories with Metrics\n"
   ]
  },
  {
   "cell_type": "markdown",
   "metadata": {},
   "source": [
    "## Importing Libraries\n",
    "Required External Libraries that must be installed:\n",
    "- openpyxl\n",
    "- pandas\n",
    "- matplotlib\n"
   ]
  },
  {
   "cell_type": "code",
   "execution_count": 3,
   "metadata": {},
   "outputs": [],
   "source": [
    "\n",
    "import json\n",
    "import pandas as pd\n",
    "import matplotlib.pyplot as plt\n",
    "import glob\n",
    "from pathlib import Path\n",
    "import subprocess\n",
    "\n"
   ]
  },
  {
   "cell_type": "markdown",
   "metadata": {},
   "source": [
    "# Evaluating Trajectories with Metrics\n",
    "\n"
   ]
  },
  {
   "cell_type": "code",
   "execution_count": 4,
   "metadata": {},
   "outputs": [],
   "source": [
    "# Configs\n",
    "evaluation_folder = Path(\"../data/0-iteration-prompt/\")\n",
    "metrics_folder = Path(\"../data/0-iteration-prompt-evaluation-results/\")\n",
    "gold_answer_folder = Path(\".../gold-standard-answers/velektronik-graph-clean-one-to-four-triple-patterns\")\n",
    "knowledge_graph_folder = \"../supplybench/abox-en.ttl.gz:../supplybench/tbox.ttl\""
   ]
  },
  {
   "cell_type": "code",
   "execution_count": null,
   "metadata": {},
   "outputs": [],
   "source": [
    "for subfolder in evaluation_folder.iterdir():\n",
    "    if subfolder.is_dir():\n",
    "        metrics_sub_folder = metrics_folder / subfolder.name\n",
    "        print(metrics_sub_folder.absolute())\n",
    "        print(subfolder.absolute()) \n",
    "        subprocess.run([\"python\", \"evaluate_sparql_queries.py\", \"-gf\", str(gold_answer_folder.absolute()), \"-pf\", str(subfolder.absolute()), \"-kgf\", knowledge_graph_folder, \"-o\", str(metrics_sub_folder.absolute())])\n",
    "\n",
    "\n"
   ]
  },
  {
   "cell_type": "markdown",
   "metadata": {},
   "source": [
    "## Exporting Evaluation Results"
   ]
  },
  {
   "cell_type": "code",
   "execution_count": 8,
   "metadata": {},
   "outputs": [],
   "source": [
    "\n",
    "def load_evaluation_results(metrics_folder):\n",
    "    # Run all evaluations\n",
    "    path_to_experiments_folder = Path(metrics_folder)\n",
    "\n",
    "    # Iterate over all subfolders and load the evaluation result detailed.json\n",
    "    results = []\n",
    "    for subfolder in path_to_experiments_folder.iterdir():\n",
    "        if subfolder.is_dir():\n",
    "            detailed_json_path = subfolder / \"evaluation-results-detailed.json\"\n",
    "            if detailed_json_path.exists():\n",
    "                with open(detailed_json_path, \"r\") as f:\n",
    "                    evaluation_result = json.load(f)\n",
    "                results.append({\n",
    "                    \"run\": subfolder.name,\n",
    "                    \"model\": \"llama-v3p3-70b-instruct\",\n",
    "                    \"dataset\": \"velektronik-graph-clean\",\n",
    "                    \"evaluation_result\": evaluation_result\n",
    "                })\n",
    "                \n",
    "    # Create a dataframe containing all results\n",
    "    dict = {\n",
    "        \"subjects\": [],\n",
    "        \"em\": 0,\n",
    "        \"f1\": 0,\n",
    "        \"precision\": 0,\n",
    "        \"recall\": 0,\n",
    "        \"query\": \"\",\n",
    "        \"question\": \"\",\n",
    "        \"run\": \"\",\n",
    "        \"model\": \"\",\n",
    "        \"dataset\": \"\",\n",
    "        \"gold_file_name\": \"\",\n",
    "        \"sparql_error\": False,\n",
    "    }\n",
    "\n",
    "    data = []\n",
    "    for run in results:\n",
    "        for question in run.get(\"evaluation_result\"):\n",
    "            if question.get(\"pred_file\") == \"\":\n",
    "                continue\n",
    "            \n",
    "            data.append({\n",
    "                \"subjects\": question.get(\"subjects\"),\n",
    "                \"pattern_type\": \"\".join([_ for _ in question.get(\"subjects\") if \"pattern\" in _]),\n",
    "                \"em\": question.get(\"em\"),\n",
    "                \"f1\": question.get(\"f1\"),\n",
    "                \"precision\": question.get(\"precision\"),\n",
    "                \"recall\": question.get(\"recall\"),\n",
    "                \"query\": question.get(\"query\"),\n",
    "                \"question\": question.get(\"question\"),\n",
    "                \"sparql_error\": question.get(\"sparql_parsing_error\") or question.get(\"sparql_not_found\"),\n",
    "                \"run\": run.get(\"run\"),\n",
    "                \"model\": run.get(\"model\"),\n",
    "                \"dataset\": run.get(\"dataset\"),\n",
    "                \"gold_file_name\": question.get(\"gold_file\")\n",
    "            })\n",
    "            \n",
    "    df = pd.DataFrame(data)\n",
    "    return df\n",
    "\n",
    "\n",
    "df_base_prompt = load_evaluation_results(Path(\"../data/trajectories/0-iteration-base-prompt-evaluation-results/\"))\n",
    "df_prompt_with_action_restrictions = load_evaluation_results(Path(\"../data/trajectories/1-iteration-new-prompt-evaluation-results/\"))\n",
    "df_prompt_with_phase_defintion = load_evaluation_results(Path(\"../data/trajectories/2-iteration-new-prompt-evaluation-results/\"))\n"
   ]
  },
  {
   "cell_type": "code",
   "execution_count": 13,
   "metadata": {},
   "outputs": [],
   "source": [
    "df_base_prompt.to_excel(\"df_base_prompt.xlsx\")\n",
    "df_prompt_with_action_restrictions.to_excel(\"df_prompt_with_action_restrictions.xlsx\")\n",
    "df_prompt_with_phase_defintion.to_excel(\"df_prompt_with_phase_defintion.xlsx\")\n",
    "\n"
   ]
  }
 ],
 "metadata": {
  "kernelspec": {
   "display_name": "graf-von-data-O0OfmzAF-py3.12",
   "language": "python",
   "name": "python3"
  },
  "language_info": {
   "codemirror_mode": {
    "name": "ipython",
    "version": 3
   },
   "file_extension": ".py",
   "mimetype": "text/x-python",
   "name": "python",
   "nbconvert_exporter": "python",
   "pygments_lexer": "ipython3",
   "version": "3.12.9"
  }
 },
 "nbformat": 4,
 "nbformat_minor": 2
}
